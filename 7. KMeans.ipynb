{
 "cells": [
  {
   "cell_type": "markdown",
   "id": "817c4314",
   "metadata": {},
   "source": [
    "## K Means Clustering\n",
    "\n",
    "K Means is an unsupervised learning algo which groups similar data points together and discover underlying patterns. To achieve this objective, K-means looks for a fixed number (k) of clusters in a dataset.”\n",
    "\n",
    "Clustering is the process of dividing the entire data into groups (also known as clusters) based on the patterns in the data.\n",
    "\n",
    "## K Means Working\n",
    "\n",
    "To process the learning data, the K-means algorithm in data mining starts with a first group of randomly selected centroids, which are used as the beginning points for every cluster, and then performs iterative (repetitive) calculations to optimize the positions of the centroids"
   ]
  },
  {
   "cell_type": "markdown",
   "id": "0696dcb5",
   "metadata": {},
   "source": [
    "## 1. Import required libraries"
   ]
  },
  {
   "cell_type": "code",
   "execution_count": 54,
   "id": "2b6d325e",
   "metadata": {},
   "outputs": [],
   "source": [
    "from keras.datasets import mnist\n",
    "(x_train, y_train), (x_test, y_test) = mnist.load_data()\n",
    "\n",
    "import matplotlib.pyplot as plt\n",
    "from sklearn.cluster import MiniBatchKMeans\n",
    "import numpy as np\n",
    "from scipy import sparse\n",
    "from sklearn.metrics import accuracy_score"
   ]
  },
  {
   "cell_type": "markdown",
   "id": "c3f3b9fa",
   "metadata": {},
   "source": [
    "## 2. Check the shape of x and y"
   ]
  },
  {
   "cell_type": "code",
   "execution_count": 55,
   "id": "9ee886e9",
   "metadata": {},
   "outputs": [
    {
     "name": "stdout",
     "output_type": "stream",
     "text": [
      "(60000, 28, 28)\n",
      "(10000, 28, 28)\n",
      "(60000,)\n",
      "(10000,)\n"
     ]
    }
   ],
   "source": [
    "print(x_train.shape)\n",
    "print(x_test.shape)\n",
    "print(y_train.shape)\n",
    "print(y_test.shape)"
   ]
  },
  {
   "cell_type": "markdown",
   "id": "3fbe2fd0",
   "metadata": {},
   "source": [
    "## Let us see the images"
   ]
  },
  {
   "cell_type": "code",
   "execution_count": 56,
   "id": "27ec6ddc",
   "metadata": {},
   "outputs": [
    {
     "data": {
      "text/plain": [
       "<Figure size 640x480 with 0 Axes>"
      ]
     },
     "metadata": {},
     "output_type": "display_data"
    },
    {
     "data": {
      "image/png": "[encoded data removed]",
      "text/plain": [
       "<Figure size 600x800 with 6 Axes>"
      ]
     },
     "metadata": {},
     "output_type": "display_data"
    }
   ],
   "source": [
    "plt.inferno() # Making it more colorful\n",
    "plt.figure(figsize = (6, 8)) # Adjusting figure size\n",
    "# Displaying a grid of 3x2 images\n",
    "\n",
    "for i in range(6):\n",
    " plt.subplot(3,2,i+1)\n",
    " plt.imshow(x_train[i]) #Display data as an image, i.e., on a 2D regular raster."
   ]
  },
  {
   "cell_type": "markdown",
   "id": "76b9c86e",
   "metadata": {},
   "source": [
    "## 3. Pre processing the data\n",
    "\n",
    "Data normalization is done by subtracting the mean from each pixel and then dividing the result by the standard deviation. The distribution of such data would resemble a Gaussian curve centered at zero. For image inputs we need the pixel numbers to be positive. So the image input is divided by 255 so that input values are in range of [0,1]."
   ]
  },
  {
   "cell_type": "code",
   "execution_count": 57,
   "id": "9f6e8615",
   "metadata": {},
   "outputs": [
    {
     "name": "stdout",
     "output_type": "stream",
     "text": [
      "0\n",
      "255\n"
     ]
    }
   ],
   "source": [
    "print(x_train.min())\n",
    "print(x_train.max())"
   ]
  },
  {
   "cell_type": "code",
   "execution_count": 58,
   "id": "b0937963",
   "metadata": {},
   "outputs": [],
   "source": [
    "x_train = x_train.astype('float32') \n",
    "x_test = x_test.astype('float32')\n",
    "# Normalization\n",
    "x_train = x_train/255.0\n",
    "x_test = x_test/255.0"
   ]
  },
  {
   "cell_type": "markdown",
   "id": "1b272dff",
   "metadata": {},
   "source": [
    "## Check again"
   ]
  },
  {
   "cell_type": "code",
   "execution_count": 59,
   "id": "6a2850a9",
   "metadata": {},
   "outputs": [
    {
     "name": "stdout",
     "output_type": "stream",
     "text": [
      "0.0\n",
      "1.0\n"
     ]
    }
   ],
   "source": [
    "print(x_train.min())\n",
    "print(x_train.max())"
   ]
  },
  {
   "cell_type": "markdown",
   "id": "eee45ee9",
   "metadata": {},
   "source": [
    "### The input data has to be converted from 3d format to 2d format to be fed into the algorithm. Hence the input data has to be reshaped."
   ]
  },
  {
   "cell_type": "code",
   "execution_count": 60,
   "id": "7f5554f2",
   "metadata": {},
   "outputs": [],
   "source": [
    "X_train = x_train.reshape(len(x_train),-1)\n",
    "X_test = x_test.reshape(len(x_test),-1)"
   ]
  },
  {
   "cell_type": "code",
   "execution_count": 61,
   "id": "6dbbf763",
   "metadata": {},
   "outputs": [
    {
     "name": "stdout",
     "output_type": "stream",
     "text": [
      "(60000, 784)\n",
      "(10000, 784)\n"
     ]
    },
    {
     "data": {
      "text/plain": [
       "array([[0., 0., 0., ..., 0., 0., 0.],\n",
       "       [0., 0., 0., ..., 0., 0., 0.],\n",
       "       [0., 0., 0., ..., 0., 0., 0.],\n",
       "       ...,\n",
       "       [0., 0., 0., ..., 0., 0., 0.],\n",
       "       [0., 0., 0., ..., 0., 0., 0.],\n",
       "       [0., 0., 0., ..., 0., 0., 0.]], dtype=float32)"
      ]
     },
     "execution_count": 61,
     "metadata": {},
     "output_type": "execute_result"
    }
   ],
   "source": [
    "print(X_train.shape)\n",
    "print(X_test.shape)\n",
    "X_train"
   ]
  },
  {
   "cell_type": "markdown",
   "id": "44f2beeb",
   "metadata": {},
   "source": [
    "As we can clearly see above, we only have 2 dimensions and the size is the same as 28 * 28 = 784"
   ]
  },
  {
   "cell_type": "markdown",
   "id": "be7f2af9",
   "metadata": {},
   "source": [
    "## 4. Building model with mini-batch K-Means"
   ]
  },
  {
   "cell_type": "code",
   "execution_count": 62,
   "id": "207c8207",
   "metadata": {},
   "outputs": [
    {
     "data": {
      "text/plain": [
       "MiniBatchKMeans(n_clusters=10)"
      ]
     },
     "execution_count": 62,
     "metadata": {},
     "output_type": "execute_result"
    }
   ],
   "source": [
    "total_clusters = len(np.unique(y_test))\n",
    "# Initialize the K-Means model \n",
    "\n",
    "kmeans = MiniBatchKMeans(n_clusters = total_clusters)\n",
    "\n",
    "X_train_sparse = sparse.csr_matrix(X_train)\n",
    "kmeans.fit(X_train_sparse)\n"
   ]
  },
  {
   "cell_type": "code",
   "execution_count": 63,
   "id": "e1017f08",
   "metadata": {},
   "outputs": [
    {
     "name": "stdout",
     "output_type": "stream",
     "text": [
      "[0 5 3 ... 0 6 8]\n"
     ]
    },
    {
     "data": {
      "text/plain": [
       "60000"
      ]
     },
     "execution_count": 63,
     "metadata": {},
     "output_type": "execute_result"
    }
   ],
   "source": [
    "print(kmeans.labels_)\n",
    "\n",
    "kmeans.labels_.size"
   ]
  },
  {
   "cell_type": "markdown",
   "id": "6937ee5c",
   "metadata": {},
   "source": [
    "kmeans.labels_ is an array of length 60000 as there are 60000 images in the training set.\n",
    "\n",
    "But the kmeans.labels_ only denotes the cluster to which the image belongs to. It doesn’t denote the number displayed in image. Hence we write a separate function to retrieve the necessary information from kmeans.labels_"
   ]
  },
  {
   "cell_type": "code",
   "execution_count": 64,
   "id": "3e6773fb",
   "metadata": {},
   "outputs": [
    {
     "name": "stdout",
     "output_type": "stream",
     "text": [
      "{0: 8, 1: 4, 2: 1, 3: 6, 4: 0, 5: 4, 6: 7, 7: 5, 8: 3, 9: 1}\n"
     ]
    }
   ],
   "source": [
    "def retrieve_info(cluster_labels,y_train):\n",
    "\n",
    "# Initializing\n",
    "    reference_labels = {}\n",
    "# For loop to run through each label of cluster label\n",
    "    for i in range(len(np.unique(kmeans.labels_))):\n",
    "        index = np.where(cluster_labels == i,1,0)\n",
    "        num = np.bincount(y_train[index==1]).argmax()\n",
    "        reference_labels[i] = num\n",
    "    return reference_labels\n",
    "print(reference_labels)"
   ]
  },
  {
   "cell_type": "markdown",
   "id": "94f8914b",
   "metadata": {},
   "source": [
    "What does this mean? - A cluster label of 0 is a cluster of images of 8, that of 1 is 4, that of 2 is 1 etc"
   ]
  },
  {
   "cell_type": "code",
   "execution_count": 65,
   "id": "67a44a9a",
   "metadata": {},
   "outputs": [],
   "source": [
    "reference_labels = retrieve_info(kmeans.labels_,y_train)\n",
    "\n",
    "number_labels = np.random.rand(len(kmeans.labels_))\n",
    "\n",
    "for i in range(len(kmeans.labels_)):\n",
    "  number_labels[i] = reference_labels[kmeans.labels_[i]]"
   ]
  },
  {
   "cell_type": "code",
   "execution_count": 66,
   "id": "db7a76ba",
   "metadata": {},
   "outputs": [
    {
     "name": "stdout",
     "output_type": "stream",
     "text": [
      "[8 0 4 1 4 2 1 8 1 7 8 1 3 6 1 7 2 7 6 7]\n",
      "[5 0 4 1 9 2 1 3 1 4 3 5 3 6 1 7 2 8 6 9]\n"
     ]
    }
   ],
   "source": [
    "print(number_labels[:20].astype('int'))\n",
    "print(y_train[:20])"
   ]
  },
  {
   "cell_type": "code",
   "execution_count": 67,
   "id": "2963a07b",
   "metadata": {},
   "outputs": [
    {
     "name": "stdout",
     "output_type": "stream",
     "text": [
      "0.5732833333333334\n"
     ]
    }
   ],
   "source": [
    "print(accuracy_score(number_labels,y_train))"
   ]
  },
  {
   "cell_type": "markdown",
   "id": "c746f744",
   "metadata": {},
   "source": [
    "This gives us about 57% accuracy only."
   ]
  },
  {
   "cell_type": "markdown",
   "id": "c5522aed",
   "metadata": {},
   "source": [
    "## 5. Optimization of Algorithm"
   ]
  },
  {
   "cell_type": "markdown",
   "id": "d2f1f8ab",
   "metadata": {},
   "source": [
    "1. Inertia is a measure of how internally coherent clusters are. It is inversely proportional to sum of squares of distances between data points and their respective cluster’s centroid. Higher the number of clusters, lower is the inertia score.\n",
    "\n",
    "2. Homogeneity is a measure of data points of a particular cluster belonging to a single class."
   ]
  }
 ],
 "metadata": {
  "kernelspec": {
   "display_name": "Python 3 (ipykernel)",
   "language": "python",
   "name": "python3"
  },
  "language_info": {
   "codemirror_mode": {
    "name": "ipython",
    "version": 3
   },
   "file_extension": ".py",
   "mimetype": "text/x-python",
   "name": "python",
   "nbconvert_exporter": "python",
   "pygments_lexer": "ipython3",
   "version": "3.9.13"
  }
 },
 "nbformat": 4,
 "nbformat_minor": 5
}
