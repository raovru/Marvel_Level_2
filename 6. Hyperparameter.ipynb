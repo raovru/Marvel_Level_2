{
 "cells": [
  {
   "cell_type": "code",
   "execution_count": 107,
   "id": "88b8bef9",
   "metadata": {},
   "outputs": [],
   "source": [
    "from sklearn.datasets import make_classification\n",
    "import numpy as np\n",
    "\n",
    "\n",
    "X, Y = make_classification(n_samples=200, n_classes=2, n_features=10, n_redundant=0, random_state=1)"
   ]
  },
  {
   "cell_type": "code",
   "execution_count": 108,
   "id": "01195786",
   "metadata": {},
   "outputs": [
    {
     "data": {
      "text/plain": [
       "((200, 10), (200,))"
      ]
     },
     "execution_count": 108,
     "metadata": {},
     "output_type": "execute_result"
    }
   ],
   "source": [
    "X.shape, Y.shape"
   ]
  },
  {
   "cell_type": "code",
   "execution_count": 109,
   "id": "bdd754da",
   "metadata": {},
   "outputs": [],
   "source": [
    "from sklearn.model_selection import train_test_split\n",
    "\n",
    "X_train, X_test, Y_train, Y_test = train_test_split(X, Y, test_size=0.2)"
   ]
  },
  {
   "cell_type": "code",
   "execution_count": 110,
   "id": "b4d3f5b9",
   "metadata": {},
   "outputs": [],
   "source": [
    "from sklearn.ensemble import RandomForestClassifier\n",
    "from sklearn.metrics import accuracy_score\n",
    "\n",
    "rf = RandomForestClassifier(max_features=5, n_estimators=100)\n",
    "\n",
    "# No of features and no of trees"
   ]
  },
  {
   "cell_type": "code",
   "execution_count": 111,
   "id": "39737d2d",
   "metadata": {},
   "outputs": [
    {
     "data": {
      "text/plain": [
       "RandomForestClassifier(max_features=5)"
      ]
     },
     "execution_count": 111,
     "metadata": {},
     "output_type": "execute_result"
    }
   ],
   "source": [
    "rf.fit(X_train, Y_train)"
   ]
  },
  {
   "cell_type": "code",
   "execution_count": 112,
   "id": "e5123553",
   "metadata": {},
   "outputs": [
    {
     "data": {
      "text/plain": [
       "0.875"
      ]
     },
     "execution_count": 112,
     "metadata": {},
     "output_type": "execute_result"
    }
   ],
   "source": [
    "rf.score(X_test, Y_test)"
   ]
  },
  {
   "cell_type": "markdown",
   "id": "182c85d2",
   "metadata": {},
   "source": [
    "## Hyperparameter Tuning\n",
    "\n",
    "The hyperparameters that we will tune includes max_features and the n_estimators.\n",
    "The GridSearchCV() function from scikit-learn will be used to perform the hyperparameter tuning."
   ]
  },
  {
   "cell_type": "code",
   "execution_count": 113,
   "id": "4ef835cc",
   "metadata": {},
   "outputs": [],
   "source": [
    "from sklearn.model_selection import GridSearchCV\n",
    "\n",
    "max_features_range = np.arange(1,6,1)\n",
    "n_estimators_range = np.arange(10,210,10)\n",
    "param_grid = dict(max_features=max_features_range, n_estimators=n_estimators_range)\n",
    "\n",
    "rf = RandomForestClassifier()\n",
    "\n",
    "grid = GridSearchCV(estimator=rf, param_grid=param_grid, cv=5)"
   ]
  },
  {
   "cell_type": "code",
   "execution_count": 114,
   "id": "64c52820",
   "metadata": {},
   "outputs": [
    {
     "data": {
      "text/plain": [
       "GridSearchCV(cv=5, estimator=RandomForestClassifier(),\n",
       "             param_grid={'max_features': array([1, 2, 3, 4, 5]),\n",
       "                         'n_estimators': array([ 10,  20,  30,  40,  50,  60,  70,  80,  90, 100, 110, 120, 130,\n",
       "       140, 150, 160, 170, 180, 190, 200])})"
      ]
     },
     "execution_count": 114,
     "metadata": {},
     "output_type": "execute_result"
    }
   ],
   "source": [
    "grid.fit(X_train, Y_train)"
   ]
  },
  {
   "cell_type": "code",
   "execution_count": 115,
   "id": "ec6cc436",
   "metadata": {},
   "outputs": [
    {
     "name": "stdout",
     "output_type": "stream",
     "text": [
      "The best parameters are {'max_features': 4, 'n_estimators': 30} with a score of 0.91\n"
     ]
    }
   ],
   "source": [
    "print(\"The best parameters are %s with a score of %0.2f\"\n",
    "      % (grid.best_params_, grid.best_score_))"
   ]
  },
  {
   "cell_type": "code",
   "execution_count": 116,
   "id": "06a2bb0a",
   "metadata": {},
   "outputs": [
    {
     "data": {
      "text/html": [
       "<div>\n",
       "<style scoped>\n",
       "    .dataframe tbody tr th:only-of-type {\n",
       "        vertical-align: middle;\n",
       "    }\n",
       "\n",
       "    .dataframe tbody tr th {\n",
       "        vertical-align: top;\n",
       "    }\n",
       "\n",
       "    .dataframe thead th {\n",
       "        text-align: right;\n",
       "    }\n",
       "</style>\n",
       "<table border=\"1\" class=\"dataframe\">\n",
       "  <thead>\n",
       "    <tr style=\"text-align: right;\">\n",
       "      <th></th>\n",
       "      <th>max_features</th>\n",
       "      <th>n_estimators</th>\n",
       "      <th>Accuracy</th>\n",
       "    </tr>\n",
       "  </thead>\n",
       "  <tbody>\n",
       "    <tr>\n",
       "      <th>0</th>\n",
       "      <td>1</td>\n",
       "      <td>10</td>\n",
       "      <td>0.78750</td>\n",
       "    </tr>\n",
       "    <tr>\n",
       "      <th>1</th>\n",
       "      <td>1</td>\n",
       "      <td>20</td>\n",
       "      <td>0.83750</td>\n",
       "    </tr>\n",
       "    <tr>\n",
       "      <th>2</th>\n",
       "      <td>1</td>\n",
       "      <td>30</td>\n",
       "      <td>0.84375</td>\n",
       "    </tr>\n",
       "    <tr>\n",
       "      <th>3</th>\n",
       "      <td>1</td>\n",
       "      <td>40</td>\n",
       "      <td>0.86875</td>\n",
       "    </tr>\n",
       "    <tr>\n",
       "      <th>4</th>\n",
       "      <td>1</td>\n",
       "      <td>50</td>\n",
       "      <td>0.86250</td>\n",
       "    </tr>\n",
       "  </tbody>\n",
       "</table>\n",
       "</div>"
      ],
      "text/plain": [
       "   max_features  n_estimators  Accuracy\n",
       "0             1            10   0.78750\n",
       "1             1            20   0.83750\n",
       "2             1            30   0.84375\n",
       "3             1            40   0.86875\n",
       "4             1            50   0.86250"
      ]
     },
     "execution_count": 116,
     "metadata": {},
     "output_type": "execute_result"
    }
   ],
   "source": [
    "import pandas as pd\n",
    "grid_results = pd.concat([pd.DataFrame(grid.cv_results_[\"params\"]),pd.DataFrame(grid.cv_results_[\"mean_test_score\"], columns=[\"Accuracy\"])],axis=1)\n",
    "grid_results.head()"
   ]
  },
  {
   "cell_type": "code",
   "execution_count": 117,
   "id": "2566c177",
   "metadata": {},
   "outputs": [
    {
     "data": {
      "text/html": [
       "<div>\n",
       "<style scoped>\n",
       "    .dataframe tbody tr th:only-of-type {\n",
       "        vertical-align: middle;\n",
       "    }\n",
       "\n",
       "    .dataframe tbody tr th {\n",
       "        vertical-align: top;\n",
       "    }\n",
       "\n",
       "    .dataframe thead th {\n",
       "        text-align: right;\n",
       "    }\n",
       "</style>\n",
       "<table border=\"1\" class=\"dataframe\">\n",
       "  <thead>\n",
       "    <tr style=\"text-align: right;\">\n",
       "      <th></th>\n",
       "      <th></th>\n",
       "      <th>Accuracy</th>\n",
       "    </tr>\n",
       "    <tr>\n",
       "      <th>max_features</th>\n",
       "      <th>n_estimators</th>\n",
       "      <th></th>\n",
       "    </tr>\n",
       "  </thead>\n",
       "  <tbody>\n",
       "    <tr>\n",
       "      <th rowspan=\"5\" valign=\"top\">1</th>\n",
       "      <th>10</th>\n",
       "      <td>0.78750</td>\n",
       "    </tr>\n",
       "    <tr>\n",
       "      <th>20</th>\n",
       "      <td>0.83750</td>\n",
       "    </tr>\n",
       "    <tr>\n",
       "      <th>30</th>\n",
       "      <td>0.84375</td>\n",
       "    </tr>\n",
       "    <tr>\n",
       "      <th>40</th>\n",
       "      <td>0.86875</td>\n",
       "    </tr>\n",
       "    <tr>\n",
       "      <th>50</th>\n",
       "      <td>0.86250</td>\n",
       "    </tr>\n",
       "    <tr>\n",
       "      <th>...</th>\n",
       "      <th>...</th>\n",
       "      <td>...</td>\n",
       "    </tr>\n",
       "    <tr>\n",
       "      <th rowspan=\"5\" valign=\"top\">5</th>\n",
       "      <th>160</th>\n",
       "      <td>0.90000</td>\n",
       "    </tr>\n",
       "    <tr>\n",
       "      <th>170</th>\n",
       "      <td>0.88750</td>\n",
       "    </tr>\n",
       "    <tr>\n",
       "      <th>180</th>\n",
       "      <td>0.89375</td>\n",
       "    </tr>\n",
       "    <tr>\n",
       "      <th>190</th>\n",
       "      <td>0.89375</td>\n",
       "    </tr>\n",
       "    <tr>\n",
       "      <th>200</th>\n",
       "      <td>0.89375</td>\n",
       "    </tr>\n",
       "  </tbody>\n",
       "</table>\n",
       "<p>100 rows × 1 columns</p>\n",
       "</div>"
      ],
      "text/plain": [
       "                           Accuracy\n",
       "max_features n_estimators          \n",
       "1            10             0.78750\n",
       "             20             0.83750\n",
       "             30             0.84375\n",
       "             40             0.86875\n",
       "             50             0.86250\n",
       "...                             ...\n",
       "5            160            0.90000\n",
       "             170            0.88750\n",
       "             180            0.89375\n",
       "             190            0.89375\n",
       "             200            0.89375\n",
       "\n",
       "[100 rows x 1 columns]"
      ]
     },
     "execution_count": 117,
     "metadata": {},
     "output_type": "execute_result"
    }
   ],
   "source": [
    "grid_contour = grid_results.groupby(['max_features','n_estimators']).mean()\n",
    "grid_contour"
   ]
  },
  {
   "cell_type": "code",
   "execution_count": 118,
   "id": "49be6dcc",
   "metadata": {},
   "outputs": [
    {
     "data": {
      "text/html": [
       "<div>\n",
       "<style scoped>\n",
       "    .dataframe tbody tr th:only-of-type {\n",
       "        vertical-align: middle;\n",
       "    }\n",
       "\n",
       "    .dataframe tbody tr th {\n",
       "        vertical-align: top;\n",
       "    }\n",
       "\n",
       "    .dataframe thead tr th {\n",
       "        text-align: left;\n",
       "    }\n",
       "\n",
       "    .dataframe thead tr:last-of-type th {\n",
       "        text-align: right;\n",
       "    }\n",
       "</style>\n",
       "<table border=\"1\" class=\"dataframe\">\n",
       "  <thead>\n",
       "    <tr>\n",
       "      <th></th>\n",
       "      <th colspan=\"20\" halign=\"left\">Accuracy</th>\n",
       "    </tr>\n",
       "    <tr>\n",
       "      <th>n_estimators</th>\n",
       "      <th>10</th>\n",
       "      <th>20</th>\n",
       "      <th>30</th>\n",
       "      <th>40</th>\n",
       "      <th>50</th>\n",
       "      <th>60</th>\n",
       "      <th>70</th>\n",
       "      <th>80</th>\n",
       "      <th>90</th>\n",
       "      <th>100</th>\n",
       "      <th>110</th>\n",
       "      <th>120</th>\n",
       "      <th>130</th>\n",
       "      <th>140</th>\n",
       "      <th>150</th>\n",
       "      <th>160</th>\n",
       "      <th>170</th>\n",
       "      <th>180</th>\n",
       "      <th>190</th>\n",
       "      <th>200</th>\n",
       "    </tr>\n",
       "    <tr>\n",
       "      <th>max_features</th>\n",
       "      <th></th>\n",
       "      <th></th>\n",
       "      <th></th>\n",
       "      <th></th>\n",
       "      <th></th>\n",
       "      <th></th>\n",
       "      <th></th>\n",
       "      <th></th>\n",
       "      <th></th>\n",
       "      <th></th>\n",
       "      <th></th>\n",
       "      <th></th>\n",
       "      <th></th>\n",
       "      <th></th>\n",
       "      <th></th>\n",
       "      <th></th>\n",
       "      <th></th>\n",
       "      <th></th>\n",
       "      <th></th>\n",
       "      <th></th>\n",
       "    </tr>\n",
       "  </thead>\n",
       "  <tbody>\n",
       "    <tr>\n",
       "      <th>1</th>\n",
       "      <td>0.78750</td>\n",
       "      <td>0.83750</td>\n",
       "      <td>0.84375</td>\n",
       "      <td>0.86875</td>\n",
       "      <td>0.86250</td>\n",
       "      <td>0.88750</td>\n",
       "      <td>0.86875</td>\n",
       "      <td>0.86875</td>\n",
       "      <td>0.89375</td>\n",
       "      <td>0.88750</td>\n",
       "      <td>0.87500</td>\n",
       "      <td>0.87500</td>\n",
       "      <td>0.86875</td>\n",
       "      <td>0.88750</td>\n",
       "      <td>0.86875</td>\n",
       "      <td>0.88125</td>\n",
       "      <td>0.87500</td>\n",
       "      <td>0.89375</td>\n",
       "      <td>0.89375</td>\n",
       "      <td>0.87500</td>\n",
       "    </tr>\n",
       "    <tr>\n",
       "      <th>2</th>\n",
       "      <td>0.86250</td>\n",
       "      <td>0.85000</td>\n",
       "      <td>0.86875</td>\n",
       "      <td>0.88125</td>\n",
       "      <td>0.88750</td>\n",
       "      <td>0.87500</td>\n",
       "      <td>0.88750</td>\n",
       "      <td>0.89375</td>\n",
       "      <td>0.88125</td>\n",
       "      <td>0.88750</td>\n",
       "      <td>0.88125</td>\n",
       "      <td>0.88750</td>\n",
       "      <td>0.88750</td>\n",
       "      <td>0.88125</td>\n",
       "      <td>0.87500</td>\n",
       "      <td>0.88750</td>\n",
       "      <td>0.88125</td>\n",
       "      <td>0.88750</td>\n",
       "      <td>0.88750</td>\n",
       "      <td>0.88125</td>\n",
       "    </tr>\n",
       "    <tr>\n",
       "      <th>3</th>\n",
       "      <td>0.85625</td>\n",
       "      <td>0.89375</td>\n",
       "      <td>0.87500</td>\n",
       "      <td>0.87500</td>\n",
       "      <td>0.86875</td>\n",
       "      <td>0.88750</td>\n",
       "      <td>0.86250</td>\n",
       "      <td>0.88125</td>\n",
       "      <td>0.88125</td>\n",
       "      <td>0.88125</td>\n",
       "      <td>0.87500</td>\n",
       "      <td>0.88125</td>\n",
       "      <td>0.88125</td>\n",
       "      <td>0.88750</td>\n",
       "      <td>0.88750</td>\n",
       "      <td>0.88125</td>\n",
       "      <td>0.88125</td>\n",
       "      <td>0.89375</td>\n",
       "      <td>0.88125</td>\n",
       "      <td>0.88750</td>\n",
       "    </tr>\n",
       "    <tr>\n",
       "      <th>4</th>\n",
       "      <td>0.88750</td>\n",
       "      <td>0.86875</td>\n",
       "      <td>0.90625</td>\n",
       "      <td>0.88125</td>\n",
       "      <td>0.88125</td>\n",
       "      <td>0.88750</td>\n",
       "      <td>0.89375</td>\n",
       "      <td>0.88750</td>\n",
       "      <td>0.88750</td>\n",
       "      <td>0.88750</td>\n",
       "      <td>0.88750</td>\n",
       "      <td>0.89375</td>\n",
       "      <td>0.89375</td>\n",
       "      <td>0.88750</td>\n",
       "      <td>0.88125</td>\n",
       "      <td>0.88125</td>\n",
       "      <td>0.89375</td>\n",
       "      <td>0.88750</td>\n",
       "      <td>0.88750</td>\n",
       "      <td>0.88125</td>\n",
       "    </tr>\n",
       "    <tr>\n",
       "      <th>5</th>\n",
       "      <td>0.90000</td>\n",
       "      <td>0.89375</td>\n",
       "      <td>0.89375</td>\n",
       "      <td>0.89375</td>\n",
       "      <td>0.88125</td>\n",
       "      <td>0.89375</td>\n",
       "      <td>0.90000</td>\n",
       "      <td>0.89375</td>\n",
       "      <td>0.89375</td>\n",
       "      <td>0.90000</td>\n",
       "      <td>0.88750</td>\n",
       "      <td>0.90000</td>\n",
       "      <td>0.90000</td>\n",
       "      <td>0.90000</td>\n",
       "      <td>0.88750</td>\n",
       "      <td>0.90000</td>\n",
       "      <td>0.88750</td>\n",
       "      <td>0.89375</td>\n",
       "      <td>0.89375</td>\n",
       "      <td>0.89375</td>\n",
       "    </tr>\n",
       "  </tbody>\n",
       "</table>\n",
       "</div>"
      ],
      "text/plain": [
       "             Accuracy                                                        \\\n",
       "n_estimators      10       20       30       40       50       60       70    \n",
       "max_features                                                                  \n",
       "1             0.78750  0.83750  0.84375  0.86875  0.86250  0.88750  0.86875   \n",
       "2             0.86250  0.85000  0.86875  0.88125  0.88750  0.87500  0.88750   \n",
       "3             0.85625  0.89375  0.87500  0.87500  0.86875  0.88750  0.86250   \n",
       "4             0.88750  0.86875  0.90625  0.88125  0.88125  0.88750  0.89375   \n",
       "5             0.90000  0.89375  0.89375  0.89375  0.88125  0.89375  0.90000   \n",
       "\n",
       "                                                                             \\\n",
       "n_estimators      80       90       100      110      120      130      140   \n",
       "max_features                                                                  \n",
       "1             0.86875  0.89375  0.88750  0.87500  0.87500  0.86875  0.88750   \n",
       "2             0.89375  0.88125  0.88750  0.88125  0.88750  0.88750  0.88125   \n",
       "3             0.88125  0.88125  0.88125  0.87500  0.88125  0.88125  0.88750   \n",
       "4             0.88750  0.88750  0.88750  0.88750  0.89375  0.89375  0.88750   \n",
       "5             0.89375  0.89375  0.90000  0.88750  0.90000  0.90000  0.90000   \n",
       "\n",
       "                                                                    \n",
       "n_estimators      150      160      170      180      190      200  \n",
       "max_features                                                        \n",
       "1             0.86875  0.88125  0.87500  0.89375  0.89375  0.87500  \n",
       "2             0.87500  0.88750  0.88125  0.88750  0.88750  0.88125  \n",
       "3             0.88750  0.88125  0.88125  0.89375  0.88125  0.88750  \n",
       "4             0.88125  0.88125  0.89375  0.88750  0.88750  0.88125  \n",
       "5             0.88750  0.90000  0.88750  0.89375  0.89375  0.89375  "
      ]
     },
     "execution_count": 118,
     "metadata": {},
     "output_type": "execute_result"
    }
   ],
   "source": [
    "grid_reset = grid_contour.reset_index()\n",
    "grid_reset.columns = ['max_features', 'n_estimators', 'Accuracy']\n",
    "grid_pivot = grid_reset.pivot('max_features', 'n_estimators')\n",
    "grid_pivot"
   ]
  }
 ],
 "metadata": {
  "kernelspec": {
   "display_name": "Python 3 (ipykernel)",
   "language": "python",
   "name": "python3"
  },
  "language_info": {
   "codemirror_mode": {
    "name": "ipython",
    "version": 3
   },
   "file_extension": ".py",
   "mimetype": "text/x-python",
   "name": "python",
   "nbconvert_exporter": "python",
   "pygments_lexer": "ipython3",
   "version": "3.9.13"
  }
 },
 "nbformat": 4,
 "nbformat_minor": 5
}
